{
 "cells": [
  {
   "cell_type": "code",
   "id": "93a4965b6bd6b24",
   "metadata": {
    "collapsed": false,
    "ExecuteTime": {
     "end_time": "2024-08-03T23:15:55.497312Z",
     "start_time": "2024-08-03T23:14:29.539326Z"
    }
   },
   "source": [
    "from bertopic import BERTopic\n",
    "from util import path"
   ],
   "outputs": [],
   "execution_count": 1
  },
  {
   "cell_type": "code",
   "source": [
    "import importlib\n",
    "\n",
    "importlib.reload(path)\n",
    "\n",
    "model_path = path.BERTOPIC_MODEL_FILE\n",
    "model = BERTopic.load(model_path)\n",
    "topics = model.get_topic_info()\n",
    "topics['Count'].sum()"
   ],
   "metadata": {
    "collapsed": false,
    "ExecuteTime": {
     "end_time": "2024-06-11T20:16:52.328253Z",
     "start_time": "2024-06-11T20:16:44.756321Z"
    }
   },
   "id": "998e6ca203d04a4d",
   "outputs": [
    {
     "data": {
      "text/plain": [
       "3790"
      ]
     },
     "execution_count": 14,
     "metadata": {},
     "output_type": "execute_result"
    }
   ],
   "execution_count": 14
  },
  {
   "cell_type": "code",
   "source": [
    "topics.shape"
   ],
   "metadata": {
    "collapsed": false,
    "ExecuteTime": {
     "end_time": "2024-06-11T20:16:52.420814Z",
     "start_time": "2024-06-11T20:16:52.328253Z"
    }
   },
   "id": "fb234cd8ba53f385",
   "outputs": [
    {
     "data": {
      "text/plain": [
       "(4, 9)"
      ]
     },
     "execution_count": 15,
     "metadata": {},
     "output_type": "execute_result"
    }
   ],
   "execution_count": 15
  },
  {
   "cell_type": "code",
   "source": [
    "topics"
   ],
   "metadata": {
    "collapsed": false,
    "ExecuteTime": {
     "end_time": "2024-06-11T20:16:52.486425Z",
     "start_time": "2024-06-11T20:16:52.420814Z"
    }
   },
   "id": "4b518e6819a1a603",
   "outputs": [
    {
     "data": {
      "text/plain": [
       "   Topic  Count                                   Name  \\\n",
       "0     -1    136          -1_langchain_size_comfyui_use   \n",
       "1      0   3510                 0_model_use_error_file   \n",
       "2      1     80           1_bloom_bloomz_use bloom_use   \n",
       "3      2     64  2_checkpoint_checkpoints_method_model   \n",
       "\n",
       "                                      Representation  \\\n",
       "0  [langchain, size, comfyui, use, tensor, size t...   \n",
       "1  [model, use, error, file, using, code, like, m...   \n",
       "2  [bloom, bloomz, use bloom, use, text, seed, li...   \n",
       "3  [checkpoint, checkpoints, method, model, train...   \n",
       "\n",
       "                                             KeyBERT  \\\n",
       "0  [size tensor, tensor, dimension, runtimeerror,...   \n",
       "1  [model, from_pretrained, models, fine tuning, ...   \n",
       "2  [use bloom, bloom model, bloom models, bloom, ...   \n",
       "3  [model checkpoint, checkpoint model, peft appr...   \n",
       "\n",
       "                                      OpenAI  \\\n",
       "0               [Tensor Size Mismatch Error]   \n",
       "1      [Troubleshooting model loading error]   \n",
       "2  [Choosing between bloom-1b7 and bloom-3b]   \n",
       "3               [Inference Methods for PEFT]   \n",
       "\n",
       "                                                 MMR  \\\n",
       "0  [langchain, size, comfyui, use, tensor, size t...   \n",
       "1  [model, use, error, file, using, code, like, m...   \n",
       "2  [bloom, bloomz, use bloom, use, text, seed, li...   \n",
       "3  [checkpoint, checkpoints, method, model, train...   \n",
       "\n",
       "                                                 POS  \\\n",
       "0  [langchain, size, comfyui, tensor, refiner, ne...   \n",
       "1  [model, error, file, code, like, models, thank...   \n",
       "2  [bloom, text, seed, generation, bigscience, mo...   \n",
       "3  [checkpoint, checkpoints, method, model, train...   \n",
       "\n",
       "                                 Representative_Docs  \n",
       "0  [RuntimeError: The size of tensor a (16) must ...  \n",
       "1  [About model performance\\n\\nHi Chien,\\r\\nThank...  \n",
       "2  [Learn how to prompt with bloom properly! Crea...  \n",
       "3  [What is the best way for the inference proces...  "
      ],
      "text/html": [
       "<div>\n",
       "<style scoped>\n",
       "    .dataframe tbody tr th:only-of-type {\n",
       "        vertical-align: middle;\n",
       "    }\n",
       "\n",
       "    .dataframe tbody tr th {\n",
       "        vertical-align: top;\n",
       "    }\n",
       "\n",
       "    .dataframe thead th {\n",
       "        text-align: right;\n",
       "    }\n",
       "</style>\n",
       "<table border=\"1\" class=\"dataframe\">\n",
       "  <thead>\n",
       "    <tr style=\"text-align: right;\">\n",
       "      <th></th>\n",
       "      <th>Topic</th>\n",
       "      <th>Count</th>\n",
       "      <th>Name</th>\n",
       "      <th>Representation</th>\n",
       "      <th>KeyBERT</th>\n",
       "      <th>OpenAI</th>\n",
       "      <th>MMR</th>\n",
       "      <th>POS</th>\n",
       "      <th>Representative_Docs</th>\n",
       "    </tr>\n",
       "  </thead>\n",
       "  <tbody>\n",
       "    <tr>\n",
       "      <th>0</th>\n",
       "      <td>-1</td>\n",
       "      <td>136</td>\n",
       "      <td>-1_langchain_size_comfyui_use</td>\n",
       "      <td>[langchain, size, comfyui, use, tensor, size t...</td>\n",
       "      <td>[size tensor, tensor, dimension, runtimeerror,...</td>\n",
       "      <td>[Tensor Size Mismatch Error]</td>\n",
       "      <td>[langchain, size, comfyui, use, tensor, size t...</td>\n",
       "      <td>[langchain, size, comfyui, tensor, refiner, ne...</td>\n",
       "      <td>[RuntimeError: The size of tensor a (16) must ...</td>\n",
       "    </tr>\n",
       "    <tr>\n",
       "      <th>1</th>\n",
       "      <td>0</td>\n",
       "      <td>3510</td>\n",
       "      <td>0_model_use_error_file</td>\n",
       "      <td>[model, use, error, file, using, code, like, m...</td>\n",
       "      <td>[model, from_pretrained, models, fine tuning, ...</td>\n",
       "      <td>[Troubleshooting model loading error]</td>\n",
       "      <td>[model, use, error, file, using, code, like, m...</td>\n",
       "      <td>[model, error, file, code, like, models, thank...</td>\n",
       "      <td>[About model performance\\n\\nHi Chien,\\r\\nThank...</td>\n",
       "    </tr>\n",
       "    <tr>\n",
       "      <th>2</th>\n",
       "      <td>1</td>\n",
       "      <td>80</td>\n",
       "      <td>1_bloom_bloomz_use bloom_use</td>\n",
       "      <td>[bloom, bloomz, use bloom, use, text, seed, li...</td>\n",
       "      <td>[use bloom, bloom model, bloom models, bloom, ...</td>\n",
       "      <td>[Choosing between bloom-1b7 and bloom-3b]</td>\n",
       "      <td>[bloom, bloomz, use bloom, use, text, seed, li...</td>\n",
       "      <td>[bloom, text, seed, generation, bigscience, mo...</td>\n",
       "      <td>[Learn how to prompt with bloom properly! Crea...</td>\n",
       "    </tr>\n",
       "    <tr>\n",
       "      <th>3</th>\n",
       "      <td>2</td>\n",
       "      <td>64</td>\n",
       "      <td>2_checkpoint_checkpoints_method_model</td>\n",
       "      <td>[checkpoint, checkpoints, method, model, train...</td>\n",
       "      <td>[model checkpoint, checkpoint model, peft appr...</td>\n",
       "      <td>[Inference Methods for PEFT]</td>\n",
       "      <td>[checkpoint, checkpoints, method, model, train...</td>\n",
       "      <td>[checkpoint, checkpoints, method, model, train...</td>\n",
       "      <td>[What is the best way for the inference proces...</td>\n",
       "    </tr>\n",
       "  </tbody>\n",
       "</table>\n",
       "</div>"
      ]
     },
     "execution_count": 16,
     "metadata": {},
     "output_type": "execute_result"
    }
   ],
   "execution_count": 16
  }
 ],
 "metadata": {
  "kernelspec": {
   "display_name": "Python 3",
   "language": "python",
   "name": "python3"
  },
  "language_info": {
   "codemirror_mode": {
    "name": "ipython",
    "version": 2
   },
   "file_extension": ".py",
   "mimetype": "text/x-python",
   "name": "python",
   "nbconvert_exporter": "python",
   "pygments_lexer": "ipython2",
   "version": "2.7.6"
  }
 },
 "nbformat": 4,
 "nbformat_minor": 5
}
